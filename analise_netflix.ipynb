{
 "cells": [
  {
   "cell_type": "markdown",
   "id": "8523c42b",
   "metadata": {},
   "source": [
    "# Análise de Dados - Netflix\n",
    "\n",
    "Para esse Business Case, vamos utilizar uma base de dados disponibilizada pela Netflix.\n",
    "\n",
    "Sua tarefa é utilizar os conhecimentos adquiridos até agora para responder as perguntas abaixo.\n",
    "\n",
    "O arquivo da base de dados está dispnível para download e também no site Kaggle.\n",
    "\n",
    "[Link da base de dados - Kaggle](https://www.kaggle.com/datasets/shivamb/netflix-shows)"
   ]
  },
  {
   "cell_type": "markdown",
   "id": "7f987966",
   "metadata": {},
   "source": [
    "# Carregamento e tratamento dos dados"
   ]
  },
  {
   "cell_type": "code",
   "execution_count": 68,
   "id": "104b224c",
   "metadata": {},
   "outputs": [],
   "source": []
  },
  {
   "cell_type": "code",
   "execution_count": 69,
   "id": "504d2fe0",
   "metadata": {},
   "outputs": [],
   "source": []
  },
  {
   "cell_type": "markdown",
   "id": "4e3e772d",
   "metadata": {},
   "source": [
    "## 1 - Quantos registros e quantas colunas existem no dataset?"
   ]
  },
  {
   "cell_type": "code",
   "execution_count": null,
   "id": "7f5e873a",
   "metadata": {},
   "outputs": [],
   "source": []
  },
  {
   "cell_type": "code",
   "execution_count": null,
   "id": "131a233f",
   "metadata": {},
   "outputs": [],
   "source": []
  },
  {
   "cell_type": "markdown",
   "id": "da12708f",
   "metadata": {},
   "source": [
    "## 2- Existem colunas com valores ausentes? Quais?"
   ]
  },
  {
   "cell_type": "code",
   "execution_count": null,
   "id": "607b52f3",
   "metadata": {},
   "outputs": [],
   "source": []
  },
  {
   "cell_type": "code",
   "execution_count": null,
   "id": "7565e57b",
   "metadata": {},
   "outputs": [],
   "source": []
  },
  {
   "cell_type": "markdown",
   "id": "09e84fb4",
   "metadata": {},
   "source": [
    "## 3 - Quantas séries (TV Show) e quantos filmes (Movie) estão disponíveis?"
   ]
  },
  {
   "cell_type": "code",
   "execution_count": null,
   "id": "5c943fa5",
   "metadata": {},
   "outputs": [],
   "source": []
  },
  {
   "cell_type": "code",
   "execution_count": null,
   "id": "d84873ff",
   "metadata": {},
   "outputs": [],
   "source": []
  },
  {
   "cell_type": "markdown",
   "id": "eb8ad9e9",
   "metadata": {},
   "source": [
    "## 4 - Quantos registros no dataset estão sem o país especificado? Liste os seus tipos (filme ou série de tv) e quantidades."
   ]
  },
  {
   "cell_type": "code",
   "execution_count": null,
   "id": "62c71861",
   "metadata": {},
   "outputs": [],
   "source": []
  },
  {
   "cell_type": "code",
   "execution_count": null,
   "id": "e7850e4b",
   "metadata": {},
   "outputs": [],
   "source": []
  },
  {
   "cell_type": "markdown",
   "id": "d508681e",
   "metadata": {},
   "source": [
    "## 5 - Qual a data do primeiro filme disponibilizado e qual o seu título e país?"
   ]
  },
  {
   "cell_type": "code",
   "execution_count": null,
   "id": "e6d9c4ce",
   "metadata": {},
   "outputs": [],
   "source": []
  },
  {
   "cell_type": "code",
   "execution_count": null,
   "id": "023706a5",
   "metadata": {},
   "outputs": [],
   "source": []
  },
  {
   "cell_type": "markdown",
   "id": "f5ca590f",
   "metadata": {},
   "source": [
    "## 6 - Qual o diretor com maior número de títulos (filme ou série)? Qual o seu país?"
   ]
  },
  {
   "cell_type": "code",
   "execution_count": null,
   "id": "09f52b78",
   "metadata": {},
   "outputs": [],
   "source": []
  },
  {
   "cell_type": "code",
   "execution_count": null,
   "id": "0015e93d",
   "metadata": {},
   "outputs": [],
   "source": []
  },
  {
   "cell_type": "markdown",
   "id": "cd2e11b7",
   "metadata": {},
   "source": [
    "## 7 - Qual é o filme de maior duração? E o de menor duração?"
   ]
  },
  {
   "cell_type": "code",
   "execution_count": null,
   "id": "4dc484d5",
   "metadata": {},
   "outputs": [],
   "source": []
  },
  {
   "cell_type": "code",
   "execution_count": null,
   "id": "a4784c99",
   "metadata": {},
   "outputs": [],
   "source": []
  },
  {
   "cell_type": "markdown",
   "id": "1f20ddc7",
   "metadata": {},
   "source": [
    "## 8 - Qual o tempo médio de duração de um filme?"
   ]
  },
  {
   "cell_type": "code",
   "execution_count": null,
   "id": "84f1b044",
   "metadata": {},
   "outputs": [],
   "source": []
  },
  {
   "cell_type": "code",
   "execution_count": null,
   "id": "98b43acd",
   "metadata": {},
   "outputs": [],
   "source": []
  },
  {
   "cell_type": "markdown",
   "id": "ce009915",
   "metadata": {},
   "source": [
    "## 9 - Liste os 3 países que produzem a maior quantidade de Séries (TV Show)."
   ]
  },
  {
   "cell_type": "code",
   "execution_count": null,
   "id": "c978bd13",
   "metadata": {},
   "outputs": [],
   "source": []
  },
  {
   "cell_type": "code",
   "execution_count": null,
   "id": "5bbfe62b",
   "metadata": {},
   "outputs": [],
   "source": []
  },
  {
   "cell_type": "markdown",
   "id": "2137e476",
   "metadata": {},
   "source": [
    "## 10 - Em qual ano  temos o maior número de séries e filmes brasileiros disponibilizados na Netflix?"
   ]
  },
  {
   "cell_type": "code",
   "execution_count": null,
   "id": "5795e2a4",
   "metadata": {},
   "outputs": [],
   "source": []
  },
  {
   "cell_type": "code",
   "execution_count": null,
   "id": "28e9c029",
   "metadata": {},
   "outputs": [],
   "source": []
  },
  {
   "cell_type": "markdown",
   "id": "1649015b",
   "metadata": {},
   "source": [
    "## 11 - Qual(ais) o(s) diretor(es) brasileiro(s) com o maior número de títulos (filme/série)?"
   ]
  },
  {
   "cell_type": "code",
   "execution_count": null,
   "id": "04239429",
   "metadata": {},
   "outputs": [],
   "source": []
  },
  {
   "cell_type": "code",
   "execution_count": null,
   "id": "ad2e056b",
   "metadata": {},
   "outputs": [],
   "source": []
  },
  {
   "cell_type": "markdown",
   "id": "398340e3",
   "metadata": {},
   "source": [
    "## 12 - Existem mais conteúdos para adultos ou para crianças e adolescentes?"
   ]
  },
  {
   "cell_type": "code",
   "execution_count": null,
   "id": "249f20d5",
   "metadata": {},
   "outputs": [],
   "source": []
  },
  {
   "cell_type": "code",
   "execution_count": null,
   "id": "710ede66",
   "metadata": {},
   "outputs": [],
   "source": []
  }
 ],
 "metadata": {
  "kernelspec": {
   "display_name": "Python 3 (ipykernel)",
   "language": "python",
   "name": "python3"
  },
  "language_info": {
   "codemirror_mode": {
    "name": "ipython",
    "version": 3
   },
   "file_extension": ".py",
   "mimetype": "text/x-python",
   "name": "python",
   "nbconvert_exporter": "python",
   "pygments_lexer": "ipython3",
   "version": "3.9.7"
  }
 },
 "nbformat": 4,
 "nbformat_minor": 5
}
